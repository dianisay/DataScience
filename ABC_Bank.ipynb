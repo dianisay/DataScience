{
 "cells": [
  {
   "cell_type": "markdown",
   "metadata": {
    "id": "AQtZQFBq-0PB",
    "tags": [
     "17aa38ef-2a73-4b18-9d71-f72cd4e12b42"
    ]
   },
   "source": [
    "ABC Bank has recently launched its privileged banking service for high-net-worth clients.\n",
    "\n",
    "The objective is to organize the storage of information for new clients. Subsequently, to investigate the first clients to better understand who they are."
   ]
  },
  {
   "cell_type": "markdown",
   "metadata": {
    "id": "hoh57tSm-we7"
   },
   "source": [
    "The information about each new client should be provided in the following order: ID document, name, age, annual net income, and occupation. This is the list containing Jack's data: 32456, 'Jack Wilson', 32, 150000, 'Healthcare'."
   ]
  },
  {
   "cell_type": "code",
   "execution_count": 5,
   "metadata": {
    "id": "-4dkZGxw-khg"
   },
   "outputs": [
    {
     "name": "stdout",
     "output_type": "stream",
     "text": [
      "[32456, 'Jack Wilson', 32, 150000, 'Healthcare']\n"
     ]
    }
   ],
   "source": [
    "client_info = [32456, 'Jack Wilson', 32, 150000, 'Healthcare']\n",
    "print(client_info)"
   ]
  },
  {
   "cell_type": "markdown",
   "metadata": {
    "id": "7cGvTjnY-6Mv"
   },
   "source": [
    "To organize the storage of information for multiple clients, the variable clients has been created and assigned an empty list.\n",
    "\n",
    "To add this information to the existing clients list as a nested list. "
   ]
  },
  {
   "cell_type": "code",
   "execution_count": 7,
   "metadata": {
    "id": "ZCTSVsx1--Rf"
   },
   "outputs": [
    {
     "name": "stdout",
     "output_type": "stream",
     "text": [
      "[[32456, 'Jack Wilson', 32, 150000, 'Healthcare']]\n"
     ]
    }
   ],
   "source": [
    "clients = []\n",
    "client_info = [32456, 'Jack Wilson', 32, 150000, 'Healthcare']\n",
    "\n",
    "clients = [client_info]\n",
    "\n",
    "print(clients)"
   ]
  },
  {
   "cell_type": "markdown",
   "metadata": {
    "id": "gJCCfV0Y_J6V"
   },
   "source": [
    "\n",
    "To extract information from a client, a case scenario is used to exemplify:\n",
    "Information about a new client, Nina Brown, has been added to the clients list. The bank is interested in her annual net income, which is located in the 4th position of the list. The goal is to extract this information, assign it to the variable client_income, and print it."
   ]
  },
  {
   "cell_type": "code",
   "execution_count": 11,
   "metadata": {
    "id": "QHTmB6aC_LRN"
   },
   "outputs": [
    {
     "name": "stdout",
     "output_type": "stream",
     "text": [
      "250000\n"
     ]
    }
   ],
   "source": [
    "clients = [\n",
    "    [32456, 'Jack Wilson', 32, 150000, 'Healthcare'],\n",
    "    [34591, 'Nina Brown', 45, 250000, 'Telecom']\n",
    "]\n",
    "\n",
    "client_income = clients[1][3]\n",
    "print(client_income)"
   ]
  },
  {
   "cell_type": "markdown",
   "metadata": {
    "id": "QN3MIaqS_MjN"
   },
   "source": [
    "If a bank employee made a typographical error when adding customer information, specifically in the occupation field of Brian Pérez ('Transportatiion'). Since this entry is invalid, it must be removed from the clients list. This code will show how to correct it:"
   ]
  },
  {
   "cell_type": "code",
   "execution_count": 13,
   "metadata": {
    "id": "epOHlskl_ONr"
   },
   "outputs": [
    {
     "name": "stdout",
     "output_type": "stream",
     "text": [
      "[[32456, 'Jack Wilson', 32, 150000, 'Healthcare'], [34591, 'Nina Brown', 45, 250000, 'Telecom'], [37512, 'Alex Smith', 39, 210000, 'IT']]\n"
     ]
    }
   ],
   "source": [
    "clients = [\n",
    "    [32456, 'Jack Wilson', 32, 150000, 'Healthcare'],\n",
    "    [34591, 'Nina Brown', 45, 250000, 'Telecom'],\n",
    "    [37512, 'Alex Smith', 39, 210000, 'IT'],\n",
    "    [39591, 'Brian Perez', 29, 340000, 'Transportatiion']\n",
    "]\n",
    "\n",
    "clients.pop(3)\n",
    "\n",
    "print(clients)"
   ]
  },
  {
   "cell_type": "markdown",
   "metadata": {},
   "source": [
    "If rather correct:"
   ]
  },
  {
   "cell_type": "code",
   "execution_count": 14,
   "metadata": {},
   "outputs": [
    {
     "name": "stdout",
     "output_type": "stream",
     "text": [
      "[[32456, 'Jack Wilson', 32, 150000, 'Healthcare'], [34591, 'Nina Brown', 45, 250000, 'Telecom'], [37512, 'Alex Smith', 39, 210000, 'IT'], [39591, 'Brian Perez', 29, 340000, 'Transportation']]\n"
     ]
    }
   ],
   "source": [
    "clients = [\n",
    "    [32456, 'Jack Wilson', 32, 150000, 'Healthcare'],\n",
    "    [34591, 'Nina Brown', 45, 250000, 'Telecom'],\n",
    "    [37512, 'Alex Smith', 39, 210000, 'IT'],\n",
    "    [39591, 'Brian Perez', 29, 340000, 'Transportatiion']\n",
    "]\n",
    "\n",
    "for client in clients:\n",
    "    if client[4] == 'Transportatiion':\n",
    "        client[4] = 'Transportation'\n",
    "\n",
    "print(clients)"
   ]
  },
  {
   "cell_type": "markdown",
   "metadata": {
    "id": "DeuraxWP_Qx7"
   },
   "source": [
    "To analyze the clients and determine the distribution of ages from highest to lowest:"
   ]
  },
  {
   "cell_type": "code",
   "execution_count": 3,
   "metadata": {
    "id": "WVn-_1cx_SDz"
   },
   "outputs": [
    {
     "name": "stdout",
     "output_type": "stream",
     "text": [
      "[45, 39, 32, 32, 29, 25]\n"
     ]
    }
   ],
   "source": [
    "ages = [32, 45, 39, 29, 25, 32]\n",
    "\n",
    "ages.sort(reverse=True)\n",
    "\n",
    "print(ages)"
   ]
  },
  {
   "cell_type": "markdown",
   "metadata": {
    "id": "CsIFu1Ec_VN6"
   },
   "source": [
    "The bank's security department requested a list of the names of the first clients. Currently, this information is available as a string where all the names are separated by commas and stored in the variable names.\n",
    "\n",
    "To assist, the string will be converted into a list called names_split, where each element represents a client's name. Don't forget to display the resulting list."
   ]
  },
  {
   "cell_type": "code",
   "execution_count": 15,
   "metadata": {
    "id": "ywFqc_4S_WbS"
   },
   "outputs": [
    {
     "name": "stdout",
     "output_type": "stream",
     "text": [
      "['Jack Wilson', 'Nina Brown', 'Alex Smith', 'Brian Perez', 'David Martinez', 'John Kim']\n"
     ]
    }
   ],
   "source": [
    "names = 'Jack Wilson,Nina Brown,Alex Smith,Brian Perez,David Martinez,John Kim'\n",
    "\n",
    "names_split = names.split(\",\")\n",
    "\n",
    "print(names_split)"
   ]
  }
 ],
 "metadata": {
  "colab": {
   "provenance": []
  },
  "kernelspec": {
   "display_name": "Python 3",
   "language": "python",
   "name": "python3"
  },
  "language_info": {
   "codemirror_mode": {
    "name": "ipython",
    "version": 3
   },
   "file_extension": ".py",
   "mimetype": "text/x-python",
   "name": "python",
   "nbconvert_exporter": "python",
   "pygments_lexer": "ipython3",
   "version": "3.12.9"
  },
  "toc": {
   "base_numbering": 1,
   "nav_menu": {},
   "number_sections": true,
   "sideBar": true,
   "skip_h1_title": true,
   "title_cell": "Table of Contents",
   "title_sidebar": "Contents",
   "toc_cell": false,
   "toc_position": {},
   "toc_section_display": true,
   "toc_window_display": false
  }
 },
 "nbformat": 4,
 "nbformat_minor": 1
}
