{
 "cells": [
  {
   "cell_type": "markdown",
   "metadata": {
    "id": "dVoN8d7NO1_k"
   },
   "source": [
    "The Administration's online services began to analyze behavior and make data-driven decisions to improve the online experience."
   ]
  },
  {
   "cell_type": "markdown",
   "metadata": {
    "id": "aDJTnkr7O1_l"
   },
   "source": [
    "# Section 1: Pre-processing of data.\n",
    "\n",
    "In order to evaluate the quality of the collected citizen data,  Vamos a evaluar la calidad de los datos recogidos sobre los ciudadanos. Te han pedido que revises los datos recopilados y propongas cambios. Next, the data about a particular user is presented; based on this, any possible issues are reviewed and identified."
   ]
  },
  {
   "cell_type": "code",
   "execution_count": 11,
   "metadata": {
    "id": "r9Y69J6yO1_m"
   },
   "outputs": [],
   "source": [
    "id_card_no = 3428563\n",
    "name_surname = 'Joseph_Kobe_Steeler '\n",
    "age = '74'\n",
    "subscriptions = ['TAXES', 'social security']"
   ]
  },
  {
   "cell_type": "markdown",
   "metadata": {
    "id": "FJJlGDXJO1_m"
   },
   "source": [
    "\n",
    "**Data Observations:**\n",
    "\n",
    "1. The id_card_no data type is integer. Can be changed to string to accommodate leading zeros and other non-numeric characters..\n",
    "2. The name_surname variable has unnecessary spaces and uses underscores in names, losing readability and consistency.\n",
    "3. The age data type is incorrect. It doesn't allow to actualize the database easily since its a string and toi perform calculations.\n",
    "4. The subscriptions list is case sensitive, While the case sensitivity isn't a problem, ensuring consistency (all uppercase or lowercase) might help avoid potential issues in the future.\n",
    "\n",
    "**Proposed changes:**\n",
    "1. id_card_no: Changing the data type from integer to string.\n",
    "2. name_surname: Removing unnecessary spaces and replacing underscores with spaces.\n",
    "3. age: Converting the age from a string to an integer.\n",
    "4. subscriptions: Ensuring consistency in the case used (all uppercase or lowercase)."
   ]
  },
  {
   "cell_type": "markdown",
   "metadata": {},
   "source": [
    "**id_card_no**"
   ]
  },
  {
   "cell_type": "code",
   "execution_count": 9,
   "metadata": {},
   "outputs": [
    {
     "name": "stdout",
     "output_type": "stream",
     "text": [
      "<class 'str'>\n",
      "74\n",
      "<class 'str'>\n"
     ]
    }
   ],
   "source": [
    "id_card_no = '74'\n",
    "\n",
    "print(type(id_card_no))\n",
    "id_card_no = str(id_card_no)\n",
    "\n",
    "print(id_card_no)\n",
    "print(type(id_card_no))"
   ]
  },
  {
   "cell_type": "markdown",
   "metadata": {},
   "source": [
    "**name_surname**"
   ]
  },
  {
   "cell_type": "code",
   "execution_count": 6,
   "metadata": {
    "colab": {
     "base_uri": "https://localhost:8080/"
    },
    "id": "rynqalenO1_r",
    "outputId": "14573682-79b8-4f84-806d-5ba035cd2aff"
   },
   "outputs": [
    {
     "name": "stdout",
     "output_type": "stream",
     "text": [
      "Joseph Kobe Steeler\n"
     ]
    }
   ],
   "source": [
    "name_surname = 'Joseph_Kobe_Steeler '\n",
    "name_surname = name_surname.strip()\n",
    "name_surname = name_surname.replace(\"_\",\" \")\n",
    "\n",
    "print(name_surname)"
   ]
  },
  {
   "cell_type": "code",
   "execution_count": 8,
   "metadata": {
    "colab": {
     "base_uri": "https://localhost:8080/"
    },
    "id": "CeCdgmI3O1_s",
    "outputId": "368bba62-3793-46e7-8add-2608b98e85dc"
   },
   "outputs": [
    {
     "name": "stdout",
     "output_type": "stream",
     "text": [
      "['Joseph', 'Kobe', 'Steeler']\n"
     ]
    }
   ],
   "source": [
    "name_surname = 'Joseph Kobe Steeler'\n",
    "name_split = name_surname.split(\" \")\n",
    "\n",
    "print(name_split)"
   ]
  },
  {
   "cell_type": "markdown",
   "metadata": {},
   "source": [
    "**age**"
   ]
  },
  {
   "cell_type": "code",
   "execution_count": 5,
   "metadata": {
    "colab": {
     "base_uri": "https://localhost:8080/"
    },
    "id": "tFChxdX-O1_s",
    "outputId": "a62d8ef8-26e5-421c-b313-a075c91147bc"
   },
   "outputs": [
    {
     "name": "stdout",
     "output_type": "stream",
     "text": [
      "74\n"
     ]
    }
   ],
   "source": [
    "age = '74'\n",
    "\n",
    "try:\n",
    "    age = int(age)\n",
    "    print(age)\n",
    "\n",
    "except ValueError:\n",
    "    print('La edad debe ser un valor numérico')\n",
    "    print(type(age))"
   ]
  },
  {
   "cell_type": "markdown",
   "metadata": {},
   "source": [
    "**subscriptions**"
   ]
  },
  {
   "cell_type": "code",
   "execution_count": 3,
   "metadata": {},
   "outputs": [
    {
     "name": "stdout",
     "output_type": "stream",
     "text": [
      "['taxes', 'social security']\n"
     ]
    }
   ],
   "source": [
    "subscriptions = ['TAXES', 'social security']\n",
    "\n",
    "subscriptions = [sub.lower() for sub in subscriptions]\n",
    "\n",
    "print(subscriptions)"
   ]
  },
  {
   "cell_type": "markdown",
   "metadata": {
    "id": "LCWaY-uKO1_t"
   },
   "source": [
    "# Section 2: Current Account Analysis\n",
    "\n",
    "The Administration launched an online current account (CA) for citizens, where they can check tax refunds and other subsidies as positive integers, and taxes owed and social security contributions as negative numbers. This section calculates how much each citizen has to receive or pay, as well as the highest amount the citizen will receive and pay. For this:\n",
    "\n",
    "1. The total amount would be the sum of all amounts. If it is negative, the citizen will have to pay taxes, and if it is positive, they will receive money.\n",
    "2. The minimum amount will be the highest tax/contribution the citizen has to pay, as they appear as negative numbers.\n",
    "3. The maximum amount will be the highest tax refund/subsidy the citizen can receive.\n"
   ]
  },
  {
   "cell_type": "code",
   "execution_count": 17,
   "metadata": {
    "colab": {
     "base_uri": "https://localhost:8080/"
    },
    "id": "g86v3QDoO1_t",
    "outputId": "02645a20-55b3-4b99-86ed-304bcc50f9cd"
   },
   "outputs": [
    {
     "name": "stdout",
     "output_type": "stream",
     "text": [
      "Balance: 1680 USD\n",
      "The maximum amount you can receive is: 8607 USD\n"
     ]
    }
   ],
   "source": [
    "citizen_CA = [-465, 156, -567, -6051, 8607]\n",
    "\n",
    "total_amount = sum(citizen_CA)\n",
    "min_tax_due = None\n",
    "max_rebate = None\n",
    "\n",
    "print(f\"Balance: {total_amount} USD\")\n",
    "\n",
    "if total_amount < 0:\n",
    "    min_tax_due = min(citizen_CA)\n",
    "    print(f\"The minimum amount to pay is: {min_tax_due} USD\")\n",
    "else:\n",
    "    max_rebate = max(citizen_CA)\n",
    "    print(f\"The maximum amount you can receive is: {max_rebate} USD\")"
   ]
  },
  {
   "cell_type": "markdown",
   "metadata": {
    "id": "hRX_U_HWO1_t"
   },
   "source": [
    "# Section 3: Email Notification for Tax Refund\n",
    "\n",
    "The Administration wants to send an email with the following text to the citizen, notifying them about the start of their tax refund:\n",
    "\n",
    "    Dear Citizen_name,\n",
    "\n",
    "    You have spent more than 10,000 in the month month_nº. Your tax refund will start next month, in month_nº+1."
   ]
  },
  {
   "cell_type": "code",
   "execution_count": 24,
   "metadata": {
    "id": "HJKhIol-O1_t"
   },
   "outputs": [
    {
     "name": "stdout",
     "output_type": "stream",
     "text": [
      "\n",
      "    Dear Joseph Kobe Steeler,\n",
      "\n",
      "    You have spent more than 10,000 in the month 5. Your tax refund will start next month, in 6.\n",
      "\n"
     ]
    }
   ],
   "source": [
    "name_surname = 'Joseph Kobe Steeler'\n",
    "months = 5\n",
    "\n",
    "message = f\"\"\"\n",
    "    Dear {name_surname},\n",
    "\n",
    "    You have spent more than 10,000 in the month {months}. Your tax refund will start next month, in {months + 1}.\n",
    "\"\"\"\n",
    "print(message)"
   ]
  }
 ],
 "metadata": {
  "colab": {
   "provenance": []
  },
  "kernelspec": {
   "display_name": "Python 3",
   "language": "python",
   "name": "python3"
  },
  "language_info": {
   "codemirror_mode": {
    "name": "ipython",
    "version": 3
   },
   "file_extension": ".py",
   "mimetype": "text/x-python",
   "name": "python",
   "nbconvert_exporter": "python",
   "pygments_lexer": "ipython3",
   "version": "3.12.9"
  },
  "toc": {
   "base_numbering": 1,
   "nav_menu": {},
   "number_sections": true,
   "sideBar": true,
   "skip_h1_title": true,
   "title_cell": "Table of Contents",
   "title_sidebar": "Contents",
   "toc_cell": false,
   "toc_position": {},
   "toc_section_display": true,
   "toc_window_display": false
  }
 },
 "nbformat": 4,
 "nbformat_minor": 1
}
